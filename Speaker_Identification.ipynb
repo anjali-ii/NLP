{
  "nbformat": 4,
  "nbformat_minor": 0,
  "metadata": {
    "colab": {
      "provenance": [],
      "authorship_tag": "ABX9TyMUmQVWYmo4GzLT9s20mEXM",
      "include_colab_link": true
    },
    "kernelspec": {
      "name": "python3",
      "display_name": "Python 3"
    },
    "language_info": {
      "name": "python"
    }
  },
  "cells": [
    {
      "cell_type": "markdown",
      "metadata": {
        "id": "view-in-github",
        "colab_type": "text"
      },
      "source": [
        "<a href=\"https://colab.research.google.com/github/anjali-ii/NLP/blob/main/Speaker_Identification.ipynb\" target=\"_parent\"><img src=\"https://colab.research.google.com/assets/colab-badge.svg\" alt=\"Open In Colab\"/></a>"
      ]
    },
    {
      "cell_type": "code",
      "execution_count": 1,
      "metadata": {
        "id": "sQ4fNWdiKwVu"
      },
      "outputs": [],
      "source": [
        "import os\n",
        "import numpy as np \n",
        "import tensorflow as tf\n",
        "import matplotlib.pyplot as plt\n",
        "import pathlib\n",
        "import librosa.display\n",
        "from tqdm import tqdm\n",
        "from sklearn.metrics import confusion_matrix\n",
        "from sklearn.model_selection import train_test_split"
      ]
    },
    {
      "cell_type": "code",
      "source": [
        "try:\n",
        "    from spela.spectrogram import Spectrogram \n",
        "    from spela.melspectrogram import Melspectrogram\n",
        "except:\n",
        "    !pip install spela\n",
        "    from spela.spectrogram import Spectrogram \n",
        "    from spela.melspectrogram import Melspectrogram"
      ],
      "metadata": {
        "colab": {
          "base_uri": "https://localhost:8080/"
        },
        "id": "3H82wT5yK4Tm",
        "outputId": "8d897e74-cd69-42d4-a611-634c9f54fcfc"
      },
      "execution_count": 2,
      "outputs": [
        {
          "output_type": "stream",
          "name": "stdout",
          "text": [
            "Looking in indexes: https://pypi.org/simple, https://us-python.pkg.dev/colab-wheels/public/simple/\n",
            "Collecting spela\n",
            "  Downloading spela-0.0.5-py3-none-any.whl (12 kB)\n",
            "Requirement already satisfied: numpy in /usr/local/lib/python3.8/dist-packages (from spela) (1.21.6)\n",
            "Requirement already satisfied: librosa in /usr/local/lib/python3.8/dist-packages (from spela) (0.8.1)\n",
            "Requirement already satisfied: matplotlib in /usr/local/lib/python3.8/dist-packages (from spela) (3.2.2)\n",
            "Requirement already satisfied: audioread>=2.0.0 in /usr/local/lib/python3.8/dist-packages (from librosa->spela) (3.0.0)\n",
            "Requirement already satisfied: joblib>=0.14 in /usr/local/lib/python3.8/dist-packages (from librosa->spela) (1.2.0)\n",
            "Requirement already satisfied: resampy>=0.2.2 in /usr/local/lib/python3.8/dist-packages (from librosa->spela) (0.4.2)\n",
            "Requirement already satisfied: decorator>=3.0.0 in /usr/local/lib/python3.8/dist-packages (from librosa->spela) (4.4.2)\n",
            "Requirement already satisfied: scipy>=1.0.0 in /usr/local/lib/python3.8/dist-packages (from librosa->spela) (1.7.3)\n",
            "Requirement already satisfied: packaging>=20.0 in /usr/local/lib/python3.8/dist-packages (from librosa->spela) (21.3)\n",
            "Requirement already satisfied: soundfile>=0.10.2 in /usr/local/lib/python3.8/dist-packages (from librosa->spela) (0.11.0)\n",
            "Requirement already satisfied: pooch>=1.0 in /usr/local/lib/python3.8/dist-packages (from librosa->spela) (1.6.0)\n",
            "Requirement already satisfied: scikit-learn!=0.19.0,>=0.14.0 in /usr/local/lib/python3.8/dist-packages (from librosa->spela) (1.0.2)\n",
            "Requirement already satisfied: numba>=0.43.0 in /usr/local/lib/python3.8/dist-packages (from librosa->spela) (0.56.4)\n",
            "Requirement already satisfied: importlib-metadata in /usr/local/lib/python3.8/dist-packages (from numba>=0.43.0->librosa->spela) (5.1.0)\n",
            "Requirement already satisfied: llvmlite<0.40,>=0.39.0dev0 in /usr/local/lib/python3.8/dist-packages (from numba>=0.43.0->librosa->spela) (0.39.1)\n",
            "Requirement already satisfied: setuptools in /usr/local/lib/python3.8/dist-packages (from numba>=0.43.0->librosa->spela) (57.4.0)\n",
            "Requirement already satisfied: pyparsing!=3.0.5,>=2.0.2 in /usr/local/lib/python3.8/dist-packages (from packaging>=20.0->librosa->spela) (3.0.9)\n",
            "Requirement already satisfied: appdirs>=1.3.0 in /usr/local/lib/python3.8/dist-packages (from pooch>=1.0->librosa->spela) (1.4.4)\n",
            "Requirement already satisfied: requests>=2.19.0 in /usr/local/lib/python3.8/dist-packages (from pooch>=1.0->librosa->spela) (2.23.0)\n",
            "Requirement already satisfied: chardet<4,>=3.0.2 in /usr/local/lib/python3.8/dist-packages (from requests>=2.19.0->pooch>=1.0->librosa->spela) (3.0.4)\n",
            "Requirement already satisfied: idna<3,>=2.5 in /usr/local/lib/python3.8/dist-packages (from requests>=2.19.0->pooch>=1.0->librosa->spela) (2.10)\n",
            "Requirement already satisfied: urllib3!=1.25.0,!=1.25.1,<1.26,>=1.21.1 in /usr/local/lib/python3.8/dist-packages (from requests>=2.19.0->pooch>=1.0->librosa->spela) (1.24.3)\n",
            "Requirement already satisfied: certifi>=2017.4.17 in /usr/local/lib/python3.8/dist-packages (from requests>=2.19.0->pooch>=1.0->librosa->spela) (2022.12.7)\n",
            "Requirement already satisfied: threadpoolctl>=2.0.0 in /usr/local/lib/python3.8/dist-packages (from scikit-learn!=0.19.0,>=0.14.0->librosa->spela) (3.1.0)\n",
            "Requirement already satisfied: cffi>=1.0 in /usr/local/lib/python3.8/dist-packages (from soundfile>=0.10.2->librosa->spela) (1.15.1)\n",
            "Requirement already satisfied: pycparser in /usr/local/lib/python3.8/dist-packages (from cffi>=1.0->soundfile>=0.10.2->librosa->spela) (2.21)\n",
            "Requirement already satisfied: zipp>=0.5 in /usr/local/lib/python3.8/dist-packages (from importlib-metadata->numba>=0.43.0->librosa->spela) (3.11.0)\n",
            "Requirement already satisfied: cycler>=0.10 in /usr/local/lib/python3.8/dist-packages (from matplotlib->spela) (0.11.0)\n",
            "Requirement already satisfied: kiwisolver>=1.0.1 in /usr/local/lib/python3.8/dist-packages (from matplotlib->spela) (1.4.4)\n",
            "Requirement already satisfied: python-dateutil>=2.1 in /usr/local/lib/python3.8/dist-packages (from matplotlib->spela) (2.8.2)\n",
            "Requirement already satisfied: six>=1.5 in /usr/local/lib/python3.8/dist-packages (from python-dateutil>=2.1->matplotlib->spela) (1.15.0)\n",
            "Installing collected packages: spela\n",
            "Successfully installed spela-0.0.5\n"
          ]
        }
      ]
    },
    {
      "cell_type": "code",
      "source": [
        "from google.colab import drive\n",
        "drive.mount('/content/drive')"
      ],
      "metadata": {
        "colab": {
          "base_uri": "https://localhost:8080/"
        },
        "id": "aBSvGIIzLAAo",
        "outputId": "619af7c6-a75e-46bf-b761-83a29ed571e2"
      },
      "execution_count": 3,
      "outputs": [
        {
          "output_type": "stream",
          "name": "stdout",
          "text": [
            "Mounted at /content/drive\n"
          ]
        }
      ]
    },
    {
      "cell_type": "code",
      "source": [
        "tf.compat.v1.disable_eager_execution()\n",
        "# Get the data directories\n",
        "data_dir = \"/content/drive/MyDrive/16000_pcm_speeches\""
      ],
      "metadata": {
        "id": "lJN4YwtTLFj2"
      },
      "execution_count": 5,
      "outputs": []
    },
    {
      "cell_type": "code",
      "source": [
        "os.listdir(data_dir)"
      ],
      "metadata": {
        "colab": {
          "base_uri": "https://localhost:8080/"
        },
        "id": "3CEACwGHLNiv",
        "outputId": "5d8d226c-f292-4c1d-a1e6-89b7e56ed099"
      },
      "execution_count": 6,
      "outputs": [
        {
          "output_type": "execute_result",
          "data": {
            "text/plain": [
              "['tf_Wav_reader.py',\n",
              " 'other',\n",
              " 'Nelson_Mandela',\n",
              " 'Julia_Gillard',\n",
              " 'Jens_Stoltenberg',\n",
              " 'Magaret_Tarcher',\n",
              " '_background_noise_',\n",
              " 'Benjamin_Netanyau']"
            ]
          },
          "metadata": {},
          "execution_count": 6
        }
      ]
    },
    {
      "cell_type": "code",
      "source": [
        "# for now we are concerned with the four speakers\n",
        "# lets get as a sample data from one of the speakers\n",
        "nelson_madela = [item for item in os.listdir(data_dir + \"/Nelson_Mandela\")]\n",
        "nelson_madela[:10]"
      ],
      "metadata": {
        "colab": {
          "base_uri": "https://localhost:8080/"
        },
        "id": "1hha1bAOLYV3",
        "outputId": "33b9ba6a-c16c-4676-f722-5ce13a123971"
      },
      "execution_count": 8,
      "outputs": [
        {
          "output_type": "execute_result",
          "data": {
            "text/plain": [
              "['1456.wav',\n",
              " '1450.wav',\n",
              " '1448.wav',\n",
              " '1453.wav',\n",
              " '1437.wav',\n",
              " '1440.wav',\n",
              " '1454.wav',\n",
              " '1443.wav',\n",
              " '1433.wav',\n",
              " '144.wav']"
            ]
          },
          "metadata": {},
          "execution_count": 8
        }
      ]
    },
    {
      "cell_type": "code",
      "source": [
        "def compute_spectrogram_melspectrogram_and_plot(wav_dir, compute_type):\n",
        "    with tf.compat.v1.Session(graph=tf.compat.v1.Graph()) as sess:\n",
        "        wav_filename_placeholder = tf.compat.v1.placeholder(tf.compat.v1.string, [])\n",
        "        wav_loader = tf.io.read_file(wav_filename_placeholder)\n",
        "        wav_decoder = tf.audio.decode_wav(wav_loader, desired_channels=1)\n",
        "        wav_data = sess.run(\n",
        "        wav_decoder, feed_dict={\n",
        "            wav_filename_placeholder: wav_dir\n",
        "        }).audio.flatten()\n",
        "        sess.close()\n",
        "    # audio has a sample rate of 16000 and the produced wav has a shape of (16000, 1)\n",
        "    # reshape to (1, 1600)\n",
        "    wav = wav_data.reshape(1, 16000)\n",
        "    wav_new = wav[np.newaxis, :] # introduce a new axis to have a shape of (1, 1, 16000)\n",
        "    height = wav_new.shape[1]\n",
        "    width = wav_new.shape[2]\n",
        "    # create a model to compute spectrogram\n",
        "    model = tf.keras.Sequential() \n",
        "    if compute_type == \"spectrogram\":\n",
        "        model.add(Spectrogram(n_dft=512, n_hop=256, input_shape=(height, width),\n",
        "                            return_decibel_spectrogram=True, power_spectrogram=2.0,\n",
        "                            trainable_kernel=False, name='static_stft'))\n",
        "    elif compute_type == \"melspectrogram\":\n",
        "        model.add(Melspectrogram(sr=16000, n_mels=128,n_dft=512, n_hop=256,\n",
        "                            input_shape=(height, width), return_decibel_melgram=True,\n",
        "                            trainable_kernel=False, name='melgram'))\n",
        "   \n",
        "    # producing a spectrogram/melspectrogram from the model\n",
        "    pred = model.predict(x=wav_new)\n",
        "\n",
        "    if tf.keras.backend.image_data_format() == \"channel_first\":\n",
        "        result = pred[0, 0]\n",
        "    else:\n",
        "        result = pred[0, :, :, 0]\n",
        "\n",
        "    # show the spectrogram/melspectrogram\n",
        "    librosa.display.specshow(result, y_axis='linear', sr=16000)"
      ],
      "metadata": {
        "id": "GpLa2_VjLhxy"
      },
      "execution_count": 9,
      "outputs": []
    },
    {
      "cell_type": "code",
      "source": [
        "compute_spectrogram_melspectrogram_and_plot(data_dir + \"/Nelson_Mandela/\" + nelson_madela[0], \"spectrogram\")"
      ],
      "metadata": {
        "colab": {
          "base_uri": "https://localhost:8080/",
          "height": 313
        },
        "id": "Cj8Ma3n6L90d",
        "outputId": "48668784-fc76-48ac-a8e4-2f260d561b76"
      },
      "execution_count": 11,
      "outputs": [
        {
          "output_type": "stream",
          "name": "stderr",
          "text": [
            "/usr/local/lib/python3.8/dist-packages/keras/engine/training_v1.py:2067: UserWarning: `Model.state_updates` will be removed in a future version. This property should not be used in TensorFlow 2.0, as `updates` are applied automatically.\n",
            "  updates=self.state_updates,\n"
          ]
        },
        {
          "output_type": "display_data",
          "data": {
            "text/plain": [
              "<Figure size 432x288 with 1 Axes>"
            ],
            "image/png": "[encoded data removed]"
          },
          "metadata": {
            "needs_background": "light"
          }
        }
      ]
    },
    {
      "cell_type": "code",
      "source": [
        "compute_spectrogram_melspectrogram_and_plot(data_dir + \"/Nelson_Mandela/\" + nelson_madela[0], \"melspectrogram\")"
      ],
      "metadata": {
        "colab": {
          "base_uri": "https://localhost:8080/",
          "height": 258
        },
        "id": "StfCPI8IMCxR",
        "outputId": "65c49a41-2959-4efb-9591-f9f5b90efa9e"
      },
      "execution_count": 12,
      "outputs": [
        {
          "output_type": "display_data",
          "data": {
            "text/plain": [
              "<Figure size 432x288 with 1 Axes>"
            ],
            "image/png": "[encoded data removed]"
          },
          "metadata": {
            "needs_background": "light"
          }
        }
      ]
    },
    {
      "cell_type": "markdown",
      "source": [
        "Train dataset"
      ],
      "metadata": {
        "id": "HFtvTsiqMyXE"
      }
    },
    {
      "cell_type": "code",
      "source": [
        "def get_wav_paths(speaker):\n",
        "    speaker_path = data_dir + speaker\n",
        "    all_paths = [item for item in os.listdir(speaker_path)]\n",
        "    return all_paths"
      ],
      "metadata": {
        "id": "oPy8dKIgMqiH"
      },
      "execution_count": 13,
      "outputs": []
    },
    {
      "cell_type": "code",
      "source": [
        "nelson_mandela_paths = get_wav_paths(\"/Nelson_Mandela\")\n",
        "margaret_thatcher_paths = get_wav_paths(\"/Magaret_Tarcher\")\n",
        "benjamin_netanyau_paths = get_wav_paths(\"/Benjamin_Netanyau\")\n",
        "jens_stoltenberg_paths = get_wav_paths( '/Jens_Stoltenberg')\n",
        "julia_gillard_paths = get_wav_paths(\"/Julia_Gillard\")"
      ],
      "metadata": {
        "id": "0Aa97gvKM6EI"
      },
      "execution_count": 15,
      "outputs": []
    },
    {
      "cell_type": "code",
      "source": [
        "# load the data\n",
        "def load_wav(wav_path, speaker):\n",
        "    with tf.compat.v1.Session(graph=tf.compat.v1.Graph()) as sess:\n",
        "        wav_path = data_dir +speaker + \"/\"+ wav_path\n",
        "        wav_filename_placeholder = tf.compat.v1.placeholder(tf.compat.v1.string, [])\n",
        "        wav_loader = tf.io.read_file(wav_filename_placeholder)\n",
        "        wav_decoder = tf.audio.decode_wav(wav_loader, desired_channels=1)\n",
        "        wav_data = sess.run(\n",
        "            wav_decoder, feed_dict={\n",
        "                wav_filename_placeholder: wav_path\n",
        "            }).audio.flatten().reshape((1, 16000))\n",
        "        sess.close()\n",
        "    return wav_data\n",
        "    \n"
      ],
      "metadata": {
        "id": "vGyIvp6BM_mn"
      },
      "execution_count": 16,
      "outputs": []
    },
    {
      "cell_type": "code",
      "source": [
        "# create training data\n",
        "def generate_training_data(speaker_paths, speaker, label):\n",
        "    wavs, labels = [], []\n",
        "    for i in tqdm(speaker_paths):\n",
        "        wav = load_wav(i, speaker)\n",
        "        wavs.append(wav)\n",
        "        labels.append(label)\n",
        "    return wavs, labels"
      ],
      "metadata": {
        "id": "HL9bU0AUNOT_"
      },
      "execution_count": 17,
      "outputs": []
    },
    {
      "cell_type": "code",
      "source": [
        "nelson_mandela_wavs, nelson_mandela_labels = generate_training_data(nelson_mandela_paths, \"/Nelson_Mandela\", 0) \n",
        "margaret_thatcher_wavs, margaret_thatcher_labels = generate_training_data(margaret_thatcher_paths, \"/Magaret_Tarcher\", 1) \n",
        "benjamin_netanyau_wavs, benjamin_netanyau_labels = generate_training_data(benjamin_netanyau_paths, \"/Benjamin_Netanyau\", 2) \n",
        "jens_stoltenberg_wavs, jens_stoltenberg_labels = generate_training_data(jens_stoltenberg_paths, \"/Jens_Stoltenberg\", 3) \n",
        "julia_gillard_wavs, julia_gillard_labels = generate_training_data(julia_gillard_paths, \"/Julia_Gillard\", 4) "
      ],
      "metadata": {
        "colab": {
          "base_uri": "https://localhost:8080/"
        },
        "id": "WfXQDScwNTb-",
        "outputId": "47b3f519-e800-4c44-df69-c5f69a723880"
      },
      "execution_count": 18,
      "outputs": [
        {
          "output_type": "stream",
          "name": "stderr",
          "text": [
            "100%|██████████| 1500/1500 [00:25<00:00, 59.08it/s] \n",
            "100%|██████████| 1500/1500 [05:35<00:00,  4.47it/s]\n",
            "100%|██████████| 1500/1500 [05:39<00:00,  4.41it/s]\n",
            "100%|██████████| 1500/1500 [05:37<00:00,  4.45it/s]\n",
            "100%|██████████| 1501/1501 [05:52<00:00,  4.26it/s]\n"
          ]
        }
      ]
    },
    {
      "cell_type": "code",
      "source": [
        "# remove the extra wav for Julia Gillard\n",
        "julia_gillard_labels = julia_gillard_labels[1:]\n",
        "julia_gillard_wavs = julia_gillard_wavs[1:]"
      ],
      "metadata": {
        "id": "OBKzOZBhNgth"
      },
      "execution_count": 19,
      "outputs": []
    },
    {
      "cell_type": "code",
      "source": [
        "all_wavs = nelson_mandela_wavs + margaret_thatcher_wavs + benjamin_netanyau_wavs + jens_stoltenberg_wavs + julia_gillard_wavs\n",
        "all_labels = nelson_mandela_labels + margaret_thatcher_labels + benjamin_netanyau_labels + jens_stoltenberg_labels + julia_gillard_labels"
      ],
      "metadata": {
        "id": "QsNfLhU6P-h9"
      },
      "execution_count": 20,
      "outputs": []
    },
    {
      "cell_type": "code",
      "source": [
        "# split the dataset into trainin and testing set\\\n",
        "train_wavs, test_wavs, train_labels, test_labels = train_test_split(all_wavs, all_labels, test_size=0.2)"
      ],
      "metadata": {
        "id": "wQ_3xQPLQEQR"
      },
      "execution_count": 21,
      "outputs": []
    },
    {
      "cell_type": "code",
      "source": [
        "train_x, train_y = np.array(train_wavs), np.array(train_labels)\n",
        "test_x, test_y = np.array(test_wavs), np.array(test_labels)"
      ],
      "metadata": {
        "id": "wT6JVYcQQNOd"
      },
      "execution_count": 22,
      "outputs": []
    },
    {
      "cell_type": "code",
      "source": [
        "train_y = tf.keras.utils.to_categorical(train_y)\n",
        "test_y = tf.keras.utils.to_categorical(test_y)"
      ],
      "metadata": {
        "id": "e-yY4E_bQSBH"
      },
      "execution_count": 23,
      "outputs": []
    },
    {
      "cell_type": "code",
      "source": [
        "# create a model\n",
        "def create_model(speech_feature):\n",
        "    model = tf.keras.Sequential()\n",
        "    if speech_feature == \"spectrogram\":\n",
        "        model.add(Spectrogram(n_dft=512, n_hop=256, input_shape=(1, 16000),\n",
        "                            return_decibel_spectrogram=True, power_spectrogram=2.0,\n",
        "                            trainable_kernel=False, name='static_stft'))\n",
        "    elif speech_feature == \"melspectrogram\":\n",
        "        model.add(Melspectrogram(sr=16000, n_mels=128,n_dft=512, n_hop=256,\n",
        "                            input_shape=(1 , 16000),return_decibel_melgram=True,\n",
        "                            trainable_kernel=False, name='melgram'))\n",
        "   \n",
        "\n",
        "    model.add(tf.keras.layers.Conv2D(64, (3, 3), activation=\"relu\"))\n",
        "    model.add(tf.keras.layers.MaxPool2D(pool_size=(2, 2)))\n",
        "\n",
        "    model.add(tf.keras.layers.Flatten())\n",
        "    model.add(tf.keras.layers.Dense(5, activation=\"softmax\"))\n",
        "    model.compile(optimizer=tf.keras.optimizers.Adam(lr=3e-4)\n",
        "            , loss = \"categorical_crossentropy\"\n",
        "            , metrics = [\"accuracy\"])\n",
        "    return model"
      ],
      "metadata": {
        "id": "M7d-LX7ZQZCR"
      },
      "execution_count": 24,
      "outputs": []
    },
    {
      "cell_type": "code",
      "source": [
        "# spectrogam model\n",
        "model = create_model(\"spectrogram\")"
      ],
      "metadata": {
        "colab": {
          "base_uri": "https://localhost:8080/"
        },
        "id": "ZAPLR2PwQfFw",
        "outputId": "94a6a6c7-c09f-4b69-f795-2a1e03f5afac"
      },
      "execution_count": 25,
      "outputs": [
        {
          "output_type": "stream",
          "name": "stderr",
          "text": [
            "/usr/local/lib/python3.8/dist-packages/keras/optimizers/optimizer_v2/adam.py:110: UserWarning: The `lr` argument is deprecated, use `learning_rate` instead.\n",
            "  super(Adam, self).__init__(name, **kwargs)\n"
          ]
        }
      ]
    },
    {
      "cell_type": "code",
      "source": [
        "model.summary()"
      ],
      "metadata": {
        "colab": {
          "base_uri": "https://localhost:8080/"
        },
        "id": "jEWBBOgCQjoy",
        "outputId": "584ef52a-98fe-4fe0-e98c-67b403d1ac9b"
      },
      "execution_count": 26,
      "outputs": [
        {
          "output_type": "stream",
          "name": "stdout",
          "text": [
            "Model: \"sequential_2\"\n",
            "_________________________________________________________________\n",
            " Layer (type)                Output Shape              Param #   \n",
            "=================================================================\n",
            " static_stft (Spectrogram)   (None, 257, 63, 1)        263168    \n",
            "                                                                 \n",
            " conv2d (Conv2D)             (None, 255, 61, 64)       640       \n",
            "                                                                 \n",
            " max_pooling2d (MaxPooling2D  (None, 127, 30, 64)      0         \n",
            " )                                                               \n",
            "                                                                 \n",
            " flatten (Flatten)           (None, 243840)            0         \n",
            "                                                                 \n",
            " dense (Dense)               (None, 5)                 1219205   \n",
            "                                                                 \n",
            "=================================================================\n",
            "Total params: 1,483,013\n",
            "Trainable params: 1,483,013\n",
            "Non-trainable params: 0\n",
            "_________________________________________________________________\n"
          ]
        }
      ]
    },
    {
      "cell_type": "code",
      "source": [
        "model.fit(x=train_x, y=train_y, epochs=10, validation_data=(test_x, test_y))"
      ],
      "metadata": {
        "colab": {
          "base_uri": "https://localhost:8080/"
        },
        "id": "rI9wo3YTQksV",
        "outputId": "9589fd5f-97e2-4c6a-86d2-f72f6049fcf8"
      },
      "execution_count": 27,
      "outputs": [
        {
          "output_type": "stream",
          "name": "stdout",
          "text": [
            "Train on 6000 samples, validate on 1500 samples\n",
            "Epoch 1/10\n",
            "6000/6000 [==============================] - ETA: 0s - loss: 21.2264 - accuracy: 0.6232"
          ]
        },
        {
          "output_type": "stream",
          "name": "stderr",
          "text": [
            "/usr/local/lib/python3.8/dist-packages/keras/engine/training_v1.py:2045: UserWarning: `Model.state_updates` will be removed in a future version. This property should not be used in TensorFlow 2.0, as `updates` are applied automatically.\n",
            "  updates = self.state_updates\n"
          ]
        },
        {
          "output_type": "stream",
          "name": "stdout",
          "text": [
            "\b\b\b\b\b\b\b\b\b\b\b\b\b\b\b\b\b\b\b\b\b\b\b\b\b\b\b\b\b\b\b\b\b\b\b\b\b\b\b\b\b\b\b\b\b\b\b\b\b\b\b\b\b\b\b\b\b\b\b\b\b\b\b\b\b\b\b\b\b\b\b\b\b\b\b\b\b\b\b\b\b\b\b\b\b\b\b\r6000/6000 [==============================] - 128s 21ms/sample - loss: 21.2264 - accuracy: 0.6232 - val_loss: 0.2965 - val_accuracy: 0.9133\n",
            "Epoch 2/10\n",
            "6000/6000 [==============================] - 129s 21ms/sample - loss: 0.2701 - accuracy: 0.9328 - val_loss: 0.2988 - val_accuracy: 0.9120\n",
            "Epoch 3/10\n",
            "6000/6000 [==============================] - 120s 20ms/sample - loss: 0.1270 - accuracy: 0.9638 - val_loss: 1.3097 - val_accuracy: 0.7707\n",
            "Epoch 4/10\n",
            "6000/6000 [==============================] - 119s 20ms/sample - loss: 0.1674 - accuracy: 0.9585 - val_loss: 0.9436 - val_accuracy: 0.8513\n",
            "Epoch 5/10\n",
            "6000/6000 [==============================] - 119s 20ms/sample - loss: 0.0471 - accuracy: 0.9842 - val_loss: 0.2579 - val_accuracy: 0.9427\n",
            "Epoch 6/10\n",
            "6000/6000 [==============================] - 117s 20ms/sample - loss: 0.0734 - accuracy: 0.9795 - val_loss: 0.4672 - val_accuracy: 0.9060\n",
            "Epoch 7/10\n",
            "6000/6000 [==============================] - 119s 20ms/sample - loss: 0.0342 - accuracy: 0.9883 - val_loss: 0.1564 - val_accuracy: 0.9567\n",
            "Epoch 8/10\n",
            "6000/6000 [==============================] - 119s 20ms/sample - loss: 2.3714e-04 - accuracy: 1.0000 - val_loss: 0.1415 - val_accuracy: 0.9600\n",
            "Epoch 9/10\n",
            "6000/6000 [==============================] - 119s 20ms/sample - loss: 5.7699e-05 - accuracy: 1.0000 - val_loss: 0.1442 - val_accuracy: 0.9647\n",
            "Epoch 10/10\n",
            "6000/6000 [==============================] - 119s 20ms/sample - loss: 3.6815e-05 - accuracy: 1.0000 - val_loss: 0.1433 - val_accuracy: 0.9640\n"
          ]
        },
        {
          "output_type": "execute_result",
          "data": {
            "text/plain": [
              "<keras.callbacks.History at 0x7f11dd04f040>"
            ]
          },
          "metadata": {},
          "execution_count": 27
        }
      ]
    },
    {
      "cell_type": "code",
      "source": [
        "# melspectrogram model\n",
        "model = create_model(\"melspectrogram\")"
      ],
      "metadata": {
        "id": "JZ6kPGa6QqPP"
      },
      "execution_count": 28,
      "outputs": []
    },
    {
      "cell_type": "code",
      "source": [
        "model.summary()"
      ],
      "metadata": {
        "colab": {
          "base_uri": "https://localhost:8080/"
        },
        "id": "xo7NYBszQtWF",
        "outputId": "b99369d3-93dc-4f0c-8553-76191622ca6e"
      },
      "execution_count": 29,
      "outputs": [
        {
          "output_type": "stream",
          "name": "stdout",
          "text": [
            "Model: \"sequential_3\"\n",
            "_________________________________________________________________\n",
            " Layer (type)                Output Shape              Param #   \n",
            "=================================================================\n",
            " melgram (Melspectrogram)    (None, 128, 63, 1)        296064    \n",
            "                                                                 \n",
            " conv2d_1 (Conv2D)           (None, 126, 61, 64)       640       \n",
            "                                                                 \n",
            " max_pooling2d_1 (MaxPooling  (None, 63, 30, 64)       0         \n",
            " 2D)                                                             \n",
            "                                                                 \n",
            " flatten_1 (Flatten)         (None, 120960)            0         \n",
            "                                                                 \n",
            " dense_1 (Dense)             (None, 5)                 604805    \n",
            "                                                                 \n",
            "=================================================================\n",
            "Total params: 901,509\n",
            "Trainable params: 901,509\n",
            "Non-trainable params: 0\n",
            "_________________________________________________________________\n"
          ]
        }
      ]
    },
    {
      "cell_type": "code",
      "source": [
        "model.fit(x=train_x, y=train_y, epochs=10, validation_data=(test_x, test_y))"
      ],
      "metadata": {
        "colab": {
          "base_uri": "https://localhost:8080/"
        },
        "id": "Sc3J5Z8NQ2N3",
        "outputId": "abf2d3ed-587a-4e1c-d9c5-b7c9b40b7062"
      },
      "execution_count": 30,
      "outputs": [
        {
          "output_type": "stream",
          "name": "stdout",
          "text": [
            "Train on 6000 samples, validate on 1500 samples\n",
            "Epoch 1/10\n",
            "6000/6000 [==============================] - 76s 13ms/sample - loss: 11.7661 - accuracy: 0.6920 - val_loss: 2.0250 - val_accuracy: 0.7993\n",
            "Epoch 2/10\n",
            "6000/6000 [==============================] - 77s 13ms/sample - loss: 1.5424 - accuracy: 0.8392 - val_loss: 1.7718 - val_accuracy: 0.8307\n",
            "Epoch 3/10\n",
            "6000/6000 [==============================] - 75s 12ms/sample - loss: 1.4119 - accuracy: 0.8725 - val_loss: 2.4098 - val_accuracy: 0.8093\n",
            "Epoch 4/10\n",
            "6000/6000 [==============================] - 77s 13ms/sample - loss: 0.9768 - accuracy: 0.9010 - val_loss: 1.4392 - val_accuracy: 0.8640\n",
            "Epoch 5/10\n",
            "6000/6000 [==============================] - 74s 12ms/sample - loss: 0.6721 - accuracy: 0.9220 - val_loss: 2.1633 - val_accuracy: 0.8100\n",
            "Epoch 6/10\n",
            "6000/6000 [==============================] - 76s 13ms/sample - loss: 0.2623 - accuracy: 0.9595 - val_loss: 0.6429 - val_accuracy: 0.9267\n",
            "Epoch 7/10\n",
            "6000/6000 [==============================] - 74s 12ms/sample - loss: 0.1578 - accuracy: 0.9745 - val_loss: 0.8006 - val_accuracy: 0.9193\n",
            "Epoch 8/10\n",
            "6000/6000 [==============================] - 76s 13ms/sample - loss: 0.1733 - accuracy: 0.9732 - val_loss: 1.0171 - val_accuracy: 0.8860\n",
            "Epoch 9/10\n",
            "6000/6000 [==============================] - 74s 12ms/sample - loss: 0.2547 - accuracy: 0.9610 - val_loss: 0.7660 - val_accuracy: 0.9080\n",
            "Epoch 10/10\n",
            "6000/6000 [==============================] - 76s 13ms/sample - loss: 0.1514 - accuracy: 0.9722 - val_loss: 1.0251 - val_accuracy: 0.8893\n"
          ]
        },
        {
          "output_type": "execute_result",
          "data": {
            "text/plain": [
              "<keras.callbacks.History at 0x7f11dc30e700>"
            ]
          },
          "metadata": {},
          "execution_count": 30
        }
      ]
    },
    {
      "cell_type": "code",
      "source": [],
      "metadata": {
        "id": "ANdkRRF4e4B1"
      },
      "execution_count": null,
      "outputs": []
    }
  ]
}